{
 "cells": [
  {
   "cell_type": "code",
   "execution_count": null,
   "id": "45318456",
   "metadata": {},
   "outputs": [],
   "source": [
    "#指导教师：宋陆军教师\n",
    "#参考资料：基于python的金融分析与风险管理-斯文\n",
    "#          风险管理与金融机构赫尔"
   ]
  },
  {
   "cell_type": "code",
   "execution_count": 1,
   "id": "d7422c88",
   "metadata": {},
   "outputs": [],
   "source": [
    "##导入模块\n",
    "import pandas as pd\n",
    "import numpy as np"
   ]
  },
  {
   "cell_type": "code",
   "execution_count": 2,
   "id": "0168caad",
   "metadata": {},
   "outputs": [],
   "source": [
    "##导入数据\n",
    "szzz = pd.read_excel('C:\\\\Users\\\\11525\\\\Desktop\\\\上证综指.xlsx')"
   ]
  },
  {
   "cell_type": "code",
   "execution_count": 3,
   "id": "d2e12007",
   "metadata": {},
   "outputs": [
    {
     "data": {
      "text/html": [
       "<div>\n",
       "<style scoped>\n",
       "    .dataframe tbody tr th:only-of-type {\n",
       "        vertical-align: middle;\n",
       "    }\n",
       "\n",
       "    .dataframe tbody tr th {\n",
       "        vertical-align: top;\n",
       "    }\n",
       "\n",
       "    .dataframe thead th {\n",
       "        text-align: right;\n",
       "    }\n",
       "</style>\n",
       "<table border=\"1\" class=\"dataframe\">\n",
       "  <thead>\n",
       "    <tr style=\"text-align: right;\">\n",
       "      <th></th>\n",
       "      <th>code</th>\n",
       "      <th>date</th>\n",
       "      <th>open</th>\n",
       "      <th>close</th>\n",
       "      <th>high</th>\n",
       "      <th>low</th>\n",
       "      <th>volume</th>\n",
       "    </tr>\n",
       "  </thead>\n",
       "  <tbody>\n",
       "    <tr>\n",
       "      <th>0</th>\n",
       "      <td>1</td>\n",
       "      <td>1991-07-15</td>\n",
       "      <td>0.203</td>\n",
       "      <td>0.203</td>\n",
       "      <td>0.203</td>\n",
       "      <td>0.203</td>\n",
       "      <td>4.0</td>\n",
       "    </tr>\n",
       "    <tr>\n",
       "      <th>1</th>\n",
       "      <td>1</td>\n",
       "      <td>1991-07-19</td>\n",
       "      <td>0.199</td>\n",
       "      <td>0.199</td>\n",
       "      <td>0.199</td>\n",
       "      <td>0.199</td>\n",
       "      <td>1.0</td>\n",
       "    </tr>\n",
       "    <tr>\n",
       "      <th>2</th>\n",
       "      <td>1</td>\n",
       "      <td>1991-07-20</td>\n",
       "      <td>0.198</td>\n",
       "      <td>0.198</td>\n",
       "      <td>0.198</td>\n",
       "      <td>0.198</td>\n",
       "      <td>2.0</td>\n",
       "    </tr>\n",
       "    <tr>\n",
       "      <th>3</th>\n",
       "      <td>1</td>\n",
       "      <td>1991-07-24</td>\n",
       "      <td>0.195</td>\n",
       "      <td>0.195</td>\n",
       "      <td>0.195</td>\n",
       "      <td>0.195</td>\n",
       "      <td>2.0</td>\n",
       "    </tr>\n",
       "    <tr>\n",
       "      <th>4</th>\n",
       "      <td>1</td>\n",
       "      <td>1991-07-26</td>\n",
       "      <td>0.193</td>\n",
       "      <td>0.193</td>\n",
       "      <td>0.193</td>\n",
       "      <td>0.193</td>\n",
       "      <td>3.0</td>\n",
       "    </tr>\n",
       "  </tbody>\n",
       "</table>\n",
       "</div>"
      ],
      "text/plain": [
       "   code        date   open  close   high    low  volume\n",
       "0     1  1991-07-15  0.203  0.203  0.203  0.203     4.0\n",
       "1     1  1991-07-19  0.199  0.199  0.199  0.199     1.0\n",
       "2     1  1991-07-20  0.198  0.198  0.198  0.198     2.0\n",
       "3     1  1991-07-24  0.195  0.195  0.195  0.195     2.0\n",
       "4     1  1991-07-26  0.193  0.193  0.193  0.193     3.0"
      ]
     },
     "execution_count": 3,
     "metadata": {},
     "output_type": "execute_result"
    }
   ],
   "source": [
    "##读取数据前5行\n",
    "szzz.head()"
   ]
  },
  {
   "cell_type": "code",
   "execution_count": 4,
   "id": "a15c6ee4",
   "metadata": {},
   "outputs": [
    {
     "data": {
      "text/html": [
       "<div>\n",
       "<style scoped>\n",
       "    .dataframe tbody tr th:only-of-type {\n",
       "        vertical-align: middle;\n",
       "    }\n",
       "\n",
       "    .dataframe tbody tr th {\n",
       "        vertical-align: top;\n",
       "    }\n",
       "\n",
       "    .dataframe thead th {\n",
       "        text-align: right;\n",
       "    }\n",
       "</style>\n",
       "<table border=\"1\" class=\"dataframe\">\n",
       "  <thead>\n",
       "    <tr style=\"text-align: right;\">\n",
       "      <th></th>\n",
       "      <th>code</th>\n",
       "      <th>date</th>\n",
       "      <th>open</th>\n",
       "      <th>close</th>\n",
       "      <th>high</th>\n",
       "      <th>low</th>\n",
       "      <th>volume</th>\n",
       "    </tr>\n",
       "  </thead>\n",
       "  <tbody>\n",
       "    <tr>\n",
       "      <th>7117</th>\n",
       "      <td>1</td>\n",
       "      <td>2021-05-28</td>\n",
       "      <td>24.68</td>\n",
       "      <td>24.50</td>\n",
       "      <td>24.71</td>\n",
       "      <td>24.16</td>\n",
       "      <td>492401.0</td>\n",
       "    </tr>\n",
       "    <tr>\n",
       "      <th>7118</th>\n",
       "      <td>1</td>\n",
       "      <td>2021-05-31</td>\n",
       "      <td>24.33</td>\n",
       "      <td>24.20</td>\n",
       "      <td>24.53</td>\n",
       "      <td>23.91</td>\n",
       "      <td>515351.0</td>\n",
       "    </tr>\n",
       "    <tr>\n",
       "      <th>7119</th>\n",
       "      <td>1</td>\n",
       "      <td>2021-06-01</td>\n",
       "      <td>24.20</td>\n",
       "      <td>23.92</td>\n",
       "      <td>24.25</td>\n",
       "      <td>23.50</td>\n",
       "      <td>625018.0</td>\n",
       "    </tr>\n",
       "    <tr>\n",
       "      <th>7120</th>\n",
       "      <td>1</td>\n",
       "      <td>2021-06-02</td>\n",
       "      <td>23.89</td>\n",
       "      <td>23.89</td>\n",
       "      <td>23.92</td>\n",
       "      <td>23.38</td>\n",
       "      <td>497527.0</td>\n",
       "    </tr>\n",
       "    <tr>\n",
       "      <th>7121</th>\n",
       "      <td>1</td>\n",
       "      <td>2021-06-03</td>\n",
       "      <td>23.72</td>\n",
       "      <td>23.77</td>\n",
       "      <td>24.14</td>\n",
       "      <td>23.68</td>\n",
       "      <td>400901.0</td>\n",
       "    </tr>\n",
       "  </tbody>\n",
       "</table>\n",
       "</div>"
      ],
      "text/plain": [
       "      code        date   open  close   high    low    volume\n",
       "7117     1  2021-05-28  24.68  24.50  24.71  24.16  492401.0\n",
       "7118     1  2021-05-31  24.33  24.20  24.53  23.91  515351.0\n",
       "7119     1  2021-06-01  24.20  23.92  24.25  23.50  625018.0\n",
       "7120     1  2021-06-02  23.89  23.89  23.92  23.38  497527.0\n",
       "7121     1  2021-06-03  23.72  23.77  24.14  23.68  400901.0"
      ]
     },
     "execution_count": 4,
     "metadata": {},
     "output_type": "execute_result"
    }
   ],
   "source": [
    "##读取数据后5行\n",
    "szzz.tail()"
   ]
  },
  {
   "cell_type": "code",
   "execution_count": 5,
   "id": "ee8ec85b",
   "metadata": {},
   "outputs": [],
   "source": [
    "#截取数据\n",
    "closeprice=szzz['close']"
   ]
  },
  {
   "cell_type": "code",
   "execution_count": 6,
   "id": "2513baf4",
   "metadata": {},
   "outputs": [
    {
     "data": {
      "text/plain": [
       "0    0.203\n",
       "1    0.199\n",
       "2    0.198\n",
       "3    0.195\n",
       "4    0.193\n",
       "Name: close, dtype: float64"
      ]
     },
     "execution_count": 6,
     "metadata": {},
     "output_type": "execute_result"
    }
   ],
   "source": [
    "closeprice.head()"
   ]
  },
  {
   "cell_type": "code",
   "execution_count": 7,
   "id": "609b6a50",
   "metadata": {},
   "outputs": [],
   "source": [
    "from pylab import mpl\n",
    "mpl.rcParams['font.sans-serif']=['SimHei']  \n",
    "mpl.rcParams['axes.unicode_minus']=False   "
   ]
  },
  {
   "cell_type": "code",
   "execution_count": 8,
   "id": "397aba26",
   "metadata": {},
   "outputs": [
    {
     "data": {
      "text/plain": [
       "<AxesSubplot:>"
      ]
     },
     "execution_count": 8,
     "metadata": {},
     "output_type": "execute_result"
    },
    {
     "data": {
      "image/png": "[encoded data removed]",
      "text/plain": [
       "<Figure size 432x288 with 1 Axes>"
      ]
     },
     "metadata": {
      "needs_background": "light"
     },
     "output_type": "display_data"
    }
   ],
   "source": [
    "closeprice.plot()"
   ]
  },
  {
   "cell_type": "code",
   "execution_count": 9,
   "id": "222d1f1b",
   "metadata": {},
   "outputs": [],
   "source": [
    "##五日移动平均线\n",
    "ma5 =closeprice.rolling(window=5).mean()"
   ]
  },
  {
   "cell_type": "code",
   "execution_count": 10,
   "id": "de94f0cc",
   "metadata": {},
   "outputs": [
    {
     "data": {
      "text/plain": [
       "<AxesSubplot:>"
      ]
     },
     "execution_count": 10,
     "metadata": {},
     "output_type": "execute_result"
    },
    {
     "data": {
      "image/png": "[encoded data removed]",
      "text/plain": [
       "<Figure size 432x288 with 1 Axes>"
      ]
     },
     "metadata": {
      "needs_background": "light"
     },
     "output_type": "display_data"
    }
   ],
   "source": [
    "ma5.plot()"
   ]
  },
  {
   "cell_type": "code",
   "execution_count": 11,
   "id": "70a8a72b",
   "metadata": {},
   "outputs": [
    {
     "data": {
      "text/plain": [
       "<AxesSubplot:>"
      ]
     },
     "execution_count": 11,
     "metadata": {},
     "output_type": "execute_result"
    },
    {
     "data": {
      "image/png": "[encoded data removed]",
      "text/plain": [
       "<Figure size 432x288 with 1 Axes>"
      ]
     },
     "metadata": {
      "needs_background": "light"
     },
     "output_type": "display_data"
    }
   ],
   "source": [
    "##60日MA\n",
    "ma60 =closeprice.rolling(window=60).mean()\n",
    "ma60.plot()"
   ]
  },
  {
   "cell_type": "code",
   "execution_count": 12,
   "id": "85eff9ba",
   "metadata": {},
   "outputs": [],
   "source": [
    "jc=closeprice-ma60"
   ]
  },
  {
   "cell_type": "code",
   "execution_count": 13,
   "id": "7935be5c",
   "metadata": {},
   "outputs": [
    {
     "data": {
      "text/plain": [
       "<AxesSubplot:>"
      ]
     },
     "execution_count": 13,
     "metadata": {},
     "output_type": "execute_result"
    },
    {
     "data": {
      "image/png": "[encoded data removed]",
      "text/plain": [
       "<Figure size 432x288 with 1 Axes>"
      ]
     },
     "metadata": {
      "needs_background": "light"
     },
     "output_type": "display_data"
    }
   ],
   "source": [
    "jc.plot()"
   ]
  },
  {
   "cell_type": "code",
   "execution_count": 14,
   "id": "4bd38336",
   "metadata": {},
   "outputs": [],
   "source": [
    "std22=closeprice.rolling(window=22).std()"
   ]
  },
  {
   "cell_type": "code",
   "execution_count": 15,
   "id": "d6a53829",
   "metadata": {},
   "outputs": [
    {
     "data": {
      "text/plain": [
       "<AxesSubplot:>"
      ]
     },
     "execution_count": 15,
     "metadata": {},
     "output_type": "execute_result"
    },
    {
     "data": {
      "image/png": "[encoded data removed]",
      "text/plain": [
       "<Figure size 432x288 with 1 Axes>"
      ]
     },
     "metadata": {
      "needs_background": "light"
     },
     "output_type": "display_data"
    }
   ],
   "source": [
    "std22.plot()"
   ]
  },
  {
   "cell_type": "code",
   "execution_count": 16,
   "id": "868a50d0",
   "metadata": {},
   "outputs": [],
   "source": [
    "std60=closeprice.rolling(window=60).std()"
   ]
  },
  {
   "cell_type": "code",
   "execution_count": 17,
   "id": "9924a86f",
   "metadata": {},
   "outputs": [
    {
     "data": {
      "text/plain": [
       "<AxesSubplot:>"
      ]
     },
     "execution_count": 17,
     "metadata": {},
     "output_type": "execute_result"
    },
    {
     "data": {
      "image/png": "[encoded data removed]",
      "text/plain": [
       "<Figure size 432x288 with 1 Axes>"
      ]
     },
     "metadata": {
      "needs_background": "light"
     },
     "output_type": "display_data"
    }
   ],
   "source": [
    "std60.plot()"
   ]
  },
  {
   "cell_type": "code",
   "execution_count": 18,
   "id": "2fbd7ce1",
   "metadata": {},
   "outputs": [
    {
     "data": {
      "text/html": [
       "<div>\n",
       "<style scoped>\n",
       "    .dataframe tbody tr th:only-of-type {\n",
       "        vertical-align: middle;\n",
       "    }\n",
       "\n",
       "    .dataframe tbody tr th {\n",
       "        vertical-align: top;\n",
       "    }\n",
       "\n",
       "    .dataframe thead th {\n",
       "        text-align: right;\n",
       "    }\n",
       "</style>\n",
       "<table border=\"1\" class=\"dataframe\">\n",
       "  <thead>\n",
       "    <tr style=\"text-align: right;\">\n",
       "      <th></th>\n",
       "      <th>code</th>\n",
       "      <th>open</th>\n",
       "      <th>close</th>\n",
       "      <th>high</th>\n",
       "      <th>low</th>\n",
       "      <th>volume</th>\n",
       "    </tr>\n",
       "  </thead>\n",
       "  <tbody>\n",
       "    <tr>\n",
       "      <th>count</th>\n",
       "      <td>7122.0</td>\n",
       "      <td>7122.000000</td>\n",
       "      <td>7122.000000</td>\n",
       "      <td>7122.000000</td>\n",
       "      <td>7122.000000</td>\n",
       "      <td>7.122000e+03</td>\n",
       "    </tr>\n",
       "    <tr>\n",
       "      <th>mean</th>\n",
       "      <td>1.0</td>\n",
       "      <td>5.488213</td>\n",
       "      <td>5.493667</td>\n",
       "      <td>5.580332</td>\n",
       "      <td>5.406192</td>\n",
       "      <td>3.803831e+05</td>\n",
       "    </tr>\n",
       "    <tr>\n",
       "      <th>std</th>\n",
       "      <td>0.0</td>\n",
       "      <td>4.484428</td>\n",
       "      <td>4.491914</td>\n",
       "      <td>4.559343</td>\n",
       "      <td>4.414980</td>\n",
       "      <td>5.560885e+05</td>\n",
       "    </tr>\n",
       "    <tr>\n",
       "      <th>min</th>\n",
       "      <td>1.0</td>\n",
       "      <td>0.171000</td>\n",
       "      <td>0.171000</td>\n",
       "      <td>0.173000</td>\n",
       "      <td>0.168000</td>\n",
       "      <td>1.000000e+00</td>\n",
       "    </tr>\n",
       "    <tr>\n",
       "      <th>25%</th>\n",
       "      <td>1.0</td>\n",
       "      <td>2.168500</td>\n",
       "      <td>2.173500</td>\n",
       "      <td>2.216250</td>\n",
       "      <td>2.135000</td>\n",
       "      <td>3.429477e+04</td>\n",
       "    </tr>\n",
       "    <tr>\n",
       "      <th>50%</th>\n",
       "      <td>1.0</td>\n",
       "      <td>4.493500</td>\n",
       "      <td>4.492000</td>\n",
       "      <td>4.585000</td>\n",
       "      <td>4.420000</td>\n",
       "      <td>1.618280e+05</td>\n",
       "    </tr>\n",
       "    <tr>\n",
       "      <th>75%</th>\n",
       "      <td>1.0</td>\n",
       "      <td>7.844750</td>\n",
       "      <td>7.842500</td>\n",
       "      <td>7.999750</td>\n",
       "      <td>7.679750</td>\n",
       "      <td>5.056181e+05</td>\n",
       "    </tr>\n",
       "    <tr>\n",
       "      <th>max</th>\n",
       "      <td>1.0</td>\n",
       "      <td>24.910000</td>\n",
       "      <td>25.010000</td>\n",
       "      <td>25.310000</td>\n",
       "      <td>24.520000</td>\n",
       "      <td>5.086050e+06</td>\n",
       "    </tr>\n",
       "  </tbody>\n",
       "</table>\n",
       "</div>"
      ],
      "text/plain": [
       "         code         open        close         high          low  \\\n",
       "count  7122.0  7122.000000  7122.000000  7122.000000  7122.000000   \n",
       "mean      1.0     5.488213     5.493667     5.580332     5.406192   \n",
       "std       0.0     4.484428     4.491914     4.559343     4.414980   \n",
       "min       1.0     0.171000     0.171000     0.173000     0.168000   \n",
       "25%       1.0     2.168500     2.173500     2.216250     2.135000   \n",
       "50%       1.0     4.493500     4.492000     4.585000     4.420000   \n",
       "75%       1.0     7.844750     7.842500     7.999750     7.679750   \n",
       "max       1.0    24.910000    25.010000    25.310000    24.520000   \n",
       "\n",
       "             volume  \n",
       "count  7.122000e+03  \n",
       "mean   3.803831e+05  \n",
       "std    5.560885e+05  \n",
       "min    1.000000e+00  \n",
       "25%    3.429477e+04  \n",
       "50%    1.618280e+05  \n",
       "75%    5.056181e+05  \n",
       "max    5.086050e+06  "
      ]
     },
     "execution_count": 18,
     "metadata": {},
     "output_type": "execute_result"
    }
   ],
   "source": [
    "szzz.describe() ##j简单描述"
   ]
  },
  {
   "cell_type": "code",
   "execution_count": 19,
   "id": "16ddee6b",
   "metadata": {},
   "outputs": [],
   "source": [
    "openprice=szzz['open']"
   ]
  },
  {
   "cell_type": "code",
   "execution_count": 20,
   "id": "964932d6",
   "metadata": {},
   "outputs": [],
   "source": [
    "import matplotlib.pylab as plt"
   ]
  },
  {
   "cell_type": "code",
   "execution_count": 21,
   "id": "90ca30af",
   "metadata": {},
   "outputs": [
    {
     "data": {
      "text/plain": [
       "<matplotlib.collections.PathCollection at 0x1c81839a6a0>"
      ]
     },
     "execution_count": 21,
     "metadata": {},
     "output_type": "execute_result"
    },
    {
     "data": {
      "image/png": "[encoded data removed]",
      "text/plain": [
       "<Figure size 648x432 with 1 Axes>"
      ]
     },
     "metadata": {
      "needs_background": "light"
     },
     "output_type": "display_data"
    }
   ],
   "source": [
    "plt.figure(figsize=(9,6))\n",
    "plt.scatter(x=openprice,y=closeprice) ##绘制散点图"
   ]
  },
  {
   "cell_type": "code",
   "execution_count": 22,
   "id": "ac247652",
   "metadata": {},
   "outputs": [],
   "source": [
    "import statsmodels.api as sm"
   ]
  },
  {
   "cell_type": "code",
   "execution_count": 23,
   "id": "f27b7c9d",
   "metadata": {},
   "outputs": [],
   "source": [
    "model = sm.OLS(endog=closeprice,exog=openprice)"
   ]
  },
  {
   "cell_type": "code",
   "execution_count": 24,
   "id": "602dabe0",
   "metadata": {},
   "outputs": [],
   "source": [
    "result =model.fit()"
   ]
  },
  {
   "cell_type": "code",
   "execution_count": 25,
   "id": "c100daa5",
   "metadata": {},
   "outputs": [
    {
     "data": {
      "text/html": [
       "<table class=\"simpletable\">\n",
       "<caption>OLS Regression Results</caption>\n",
       "<tr>\n",
       "  <th>Dep. Variable:</th>          <td>close</td>      <th>  R-squared (uncentered):</th>      <td>   1.000</td> \n",
       "</tr>\n",
       "<tr>\n",
       "  <th>Model:</th>                   <td>OLS</td>       <th>  Adj. R-squared (uncentered):</th> <td>   1.000</td> \n",
       "</tr>\n",
       "<tr>\n",
       "  <th>Method:</th>             <td>Least Squares</td>  <th>  F-statistic:       </th>          <td>1.484e+07</td>\n",
       "</tr>\n",
       "<tr>\n",
       "  <th>Date:</th>             <td>Wed, 09 Jun 2021</td> <th>  Prob (F-statistic):</th>           <td>  0.00</td>  \n",
       "</tr>\n",
       "<tr>\n",
       "  <th>Time:</th>                 <td>15:05:34</td>     <th>  Log-Likelihood:    </th>          <td>  3153.2</td> \n",
       "</tr>\n",
       "<tr>\n",
       "  <th>No. Observations:</th>      <td>  7122</td>      <th>  AIC:               </th>          <td>  -6304.</td> \n",
       "</tr>\n",
       "<tr>\n",
       "  <th>Df Residuals:</th>          <td>  7121</td>      <th>  BIC:               </th>          <td>  -6297.</td> \n",
       "</tr>\n",
       "<tr>\n",
       "  <th>Df Model:</th>              <td>     1</td>      <th>                     </th>              <td> </td>    \n",
       "</tr>\n",
       "<tr>\n",
       "  <th>Covariance Type:</th>      <td>nonrobust</td>    <th>                     </th>              <td> </td>    \n",
       "</tr>\n",
       "</table>\n",
       "<table class=\"simpletable\">\n",
       "<tr>\n",
       "    <td></td>      <th>coef</th>     <th>std err</th>      <th>t</th>      <th>P>|t|</th>  <th>[0.025</th>    <th>0.975]</th>  \n",
       "</tr>\n",
       "<tr>\n",
       "  <th>open</th> <td>    1.0010</td> <td>    0.000</td> <td> 3852.136</td> <td> 0.000</td> <td>    1.001</td> <td>    1.002</td>\n",
       "</tr>\n",
       "</table>\n",
       "<table class=\"simpletable\">\n",
       "<tr>\n",
       "  <th>Omnibus:</th>       <td>2214.133</td> <th>  Durbin-Watson:     </th> <td>   2.025</td> \n",
       "</tr>\n",
       "<tr>\n",
       "  <th>Prob(Omnibus):</th>  <td> 0.000</td>  <th>  Jarque-Bera (JB):  </th> <td>65581.546</td>\n",
       "</tr>\n",
       "<tr>\n",
       "  <th>Skew:</th>           <td> 0.875</td>  <th>  Prob(JB):          </th> <td>    0.00</td> \n",
       "</tr>\n",
       "<tr>\n",
       "  <th>Kurtosis:</th>       <td>17.763</td>  <th>  Cond. No.          </th> <td>    1.00</td> \n",
       "</tr>\n",
       "</table><br/><br/>Notes:<br/>[1] R² is computed without centering (uncentered) since the model does not contain a constant.<br/>[2] Standard Errors assume that the covariance matrix of the errors is correctly specified."
      ],
      "text/plain": [
       "<class 'statsmodels.iolib.summary.Summary'>\n",
       "\"\"\"\n",
       "                                 OLS Regression Results                                \n",
       "=======================================================================================\n",
       "Dep. Variable:                  close   R-squared (uncentered):                   1.000\n",
       "Model:                            OLS   Adj. R-squared (uncentered):              1.000\n",
       "Method:                 Least Squares   F-statistic:                          1.484e+07\n",
       "Date:                Wed, 09 Jun 2021   Prob (F-statistic):                        0.00\n",
       "Time:                        15:05:34   Log-Likelihood:                          3153.2\n",
       "No. Observations:                7122   AIC:                                     -6304.\n",
       "Df Residuals:                    7121   BIC:                                     -6297.\n",
       "Df Model:                           1                                                  \n",
       "Covariance Type:            nonrobust                                                  \n",
       "==============================================================================\n",
       "                 coef    std err          t      P>|t|      [0.025      0.975]\n",
       "------------------------------------------------------------------------------\n",
       "open           1.0010      0.000   3852.136      0.000       1.001       1.002\n",
       "==============================================================================\n",
       "Omnibus:                     2214.133   Durbin-Watson:                   2.025\n",
       "Prob(Omnibus):                  0.000   Jarque-Bera (JB):            65581.546\n",
       "Skew:                           0.875   Prob(JB):                         0.00\n",
       "Kurtosis:                      17.763   Cond. No.                         1.00\n",
       "==============================================================================\n",
       "\n",
       "Notes:\n",
       "[1] R² is computed without centering (uncentered) since the model does not contain a constant.\n",
       "[2] Standard Errors assume that the covariance matrix of the errors is correctly specified.\n",
       "\"\"\""
      ]
     },
     "execution_count": 25,
     "metadata": {},
     "output_type": "execute_result"
    }
   ],
   "source": [
    "result.summary()"
   ]
  },
  {
   "cell_type": "code",
   "execution_count": 26,
   "id": "c84ada49",
   "metadata": {},
   "outputs": [],
   "source": [
    "beta = np.linspace(0.5,2.0,100)\n",
    "Rf=0.03\n",
    "Rm=0.12\n",
    "Ri=Rf+beta*(Rm-Rf)"
   ]
  },
  {
   "cell_type": "code",
   "execution_count": 27,
   "id": "ddae88be",
   "metadata": {},
   "outputs": [
    {
     "data": {
      "text/plain": [
       "[<matplotlib.lines.Line2D at 0x1c828d3cda0>]"
      ]
     },
     "execution_count": 27,
     "metadata": {},
     "output_type": "execute_result"
    },
    {
     "data": {
      "image/png": "[encoded data removed]",
      "text/plain": [
       "<Figure size 648x432 with 1 Axes>"
      ]
     },
     "metadata": {
      "needs_background": "light"
     },
     "output_type": "display_data"
    }
   ],
   "source": [
    "plt.figure(figsize=(9,6))\n",
    "plt.scatter(beta,Ri)\n",
    "plt.plot(1.0,Rf+1.0*(Rm-Rf),'y*',lw = 2.5)"
   ]
  },
  {
   "cell_type": "code",
   "execution_count": 28,
   "id": "8a35f73d",
   "metadata": {},
   "outputs": [],
   "source": [
    "stock_return =np.array([[0.0037,-0.0018,-0.00312,-0.023],[0.023,0.00189,0.00034,0.0017],[-0.0048,-0.0165,-0.0334,-0.029],[0.0061,-0.0037,0.0071,-0.0175]])"
   ]
  },
  {
   "cell_type": "code",
   "execution_count": 29,
   "id": "d7ffebc3",
   "metadata": {},
   "outputs": [
    {
     "data": {
      "text/plain": [
       "array([[ 0.0037 , -0.0018 , -0.00312, -0.023  ],\n",
       "       [ 0.023  ,  0.00189,  0.00034,  0.0017 ],\n",
       "       [-0.0048 , -0.0165 , -0.0334 , -0.029  ],\n",
       "       [ 0.0061 , -0.0037 ,  0.0071 , -0.0175 ]])"
      ]
     },
     "execution_count": 29,
     "metadata": {},
     "output_type": "execute_result"
    }
   ],
   "source": [
    "stock_return"
   ]
  },
  {
   "cell_type": "code",
   "execution_count": 30,
   "id": "b1fa1710",
   "metadata": {},
   "outputs": [],
   "source": [
    "port_return=np.array([-0.0105,0.00706,-0.025,-0.00386])"
   ]
  },
  {
   "cell_type": "code",
   "execution_count": 31,
   "id": "e91eda15",
   "metadata": {},
   "outputs": [
    {
     "data": {
      "text/plain": [
       "array([-0.0105 ,  0.00706, -0.025  , -0.00386])"
      ]
     },
     "execution_count": 31,
     "metadata": {},
     "output_type": "execute_result"
    }
   ],
   "source": [
    "port_return"
   ]
  },
  {
   "cell_type": "code",
   "execution_count": 32,
   "id": "9e36f3ad",
   "metadata": {},
   "outputs": [],
   "source": [
    "from scipy import linalg"
   ]
  },
  {
   "cell_type": "code",
   "execution_count": 33,
   "id": "10df5558",
   "metadata": {},
   "outputs": [],
   "source": [
    "weight =linalg.solve(a=stock_return,b=port_return)"
   ]
  },
  {
   "cell_type": "code",
   "execution_count": 34,
   "id": "3dd232e9",
   "metadata": {},
   "outputs": [
    {
     "data": {
      "text/plain": [
       "array([ 0.27152929, -0.04086447,  0.33164583,  0.45841215])"
      ]
     },
     "execution_count": 34,
     "metadata": {},
     "output_type": "execute_result"
    }
   ],
   "source": [
    "weight   ##反求权重"
   ]
  }
 ],
 "metadata": {
  "kernelspec": {
   "display_name": "Python 3",
   "language": "python",
   "name": "python3"
  },
  "language_info": {
   "codemirror_mode": {
    "name": "ipython",
    "version": 3
   },
   "file_extension": ".py",
   "mimetype": "text/x-python",
   "name": "python",
   "nbconvert_exporter": "python",
   "pygments_lexer": "ipython3",
   "version": "3.7.3"
  }
 },
 "nbformat": 4,
 "nbformat_minor": 5
}
