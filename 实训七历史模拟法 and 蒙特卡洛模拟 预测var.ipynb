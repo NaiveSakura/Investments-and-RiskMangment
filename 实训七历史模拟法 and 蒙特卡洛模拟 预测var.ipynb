{
 "cells": [
  {
   "cell_type": "code",
   "execution_count": 1,
   "id": "a6a6d687",
   "metadata": {},
   "outputs": [],
   "source": [
    "#指导教师：宋陆军教师\n",
    "#参考资料：基于python的金融分析与风险管理-斯文\n",
    "#          风险管理与金融机构赫尔"
   ]
  },
  {
   "cell_type": "code",
   "execution_count": 2,
   "id": "186831b9",
   "metadata": {},
   "outputs": [],
   "source": [
    "import numpy as  np #导入numpy模块\n",
    "import pandas as pd #导入pandas模块\n",
    "import scipy #导入scipy 统计模块\n",
    "import matplotlib.pyplot as plt #导入pyplot模块\n",
    "from pylab import mpl #导入mpl模块\n",
    "# mpl.rcParams[\"font.sans-serif\"] = [\"simehei\"]\n",
    "# mpl.rcParams[\"axes.unicode_minus\"] = False\n",
    "plt.rcParams['font.sans-serif']=['SimHei'] #显示中文标签\n",
    "plt.rcParams['axes.unicode_minus']=False"
   ]
  },
  {
   "cell_type": "code",
   "execution_count": 3,
   "id": "302a1c32",
   "metadata": {},
   "outputs": [],
   "source": [
    "data = pd.read_excel(\"D:\\\\BaiduNetdiskWorkspace\\\\source\\\\xs数据\\\\投资组合配置的资产情况.xlsx\",sheet_name = \"Sheet1\", header=0,index_col=0)"
   ]
  },
  {
   "cell_type": "code",
   "execution_count": 4,
   "id": "7ae5a5e6",
   "metadata": {},
   "outputs": [],
   "source": [
    "#收益率\n",
    "R = np.log(data/data.shift(1))"
   ]
  },
  {
   "cell_type": "code",
   "execution_count": 5,
   "id": "2176d608",
   "metadata": {},
   "outputs": [],
   "source": [
    "R = R.dropna()"
   ]
  },
  {
   "cell_type": "code",
   "execution_count": 6,
   "id": "2f38e9b8",
   "metadata": {},
   "outputs": [],
   "source": [
    "Value_port = 10000\n",
    "weights = np.array([0.15,0.20,0.50,0.05,0.10])"
   ]
  },
  {
   "cell_type": "code",
   "execution_count": 7,
   "id": "30fd8bdf",
   "metadata": {},
   "outputs": [],
   "source": [
    "Vaule_asset = Value_port*weights"
   ]
  },
  {
   "cell_type": "code",
   "execution_count": 8,
   "id": "2fb03db4",
   "metadata": {},
   "outputs": [
    {
     "data": {
      "text/plain": [
       "array([1500., 2000., 5000.,  500., 1000.])"
      ]
     },
     "execution_count": 8,
     "metadata": {},
     "output_type": "execute_result"
    }
   ],
   "source": [
    "Vaule_asset"
   ]
  },
  {
   "cell_type": "code",
   "execution_count": 9,
   "id": "df86b1e2",
   "metadata": {},
   "outputs": [
    {
     "data": {
      "text/html": [
       "<div>\n",
       "<style scoped>\n",
       "    .dataframe tbody tr th:only-of-type {\n",
       "        vertical-align: middle;\n",
       "    }\n",
       "\n",
       "    .dataframe tbody tr th {\n",
       "        vertical-align: top;\n",
       "    }\n",
       "\n",
       "    .dataframe thead th {\n",
       "        text-align: right;\n",
       "    }\n",
       "</style>\n",
       "<table border=\"1\" class=\"dataframe\">\n",
       "  <thead>\n",
       "    <tr style=\"text-align: right;\">\n",
       "      <th></th>\n",
       "      <th>贵州茅台</th>\n",
       "      <th>交通银行</th>\n",
       "      <th>嘉实增强信用基金</th>\n",
       "      <th>华夏恒生ETF</th>\n",
       "      <th>博时标普500ETF</th>\n",
       "    </tr>\n",
       "    <tr>\n",
       "      <th>日期</th>\n",
       "      <th></th>\n",
       "      <th></th>\n",
       "      <th></th>\n",
       "      <th></th>\n",
       "      <th></th>\n",
       "    </tr>\n",
       "  </thead>\n",
       "  <tbody>\n",
       "    <tr>\n",
       "      <th>2015-01-06</th>\n",
       "      <td>-0.023431</td>\n",
       "      <td>-0.021506</td>\n",
       "      <td>0.001866</td>\n",
       "      <td>-0.008710</td>\n",
       "      <td>-0.008965</td>\n",
       "    </tr>\n",
       "    <tr>\n",
       "      <th>2015-01-07</th>\n",
       "      <td>-0.025029</td>\n",
       "      <td>-0.020499</td>\n",
       "      <td>0.000932</td>\n",
       "      <td>0.009531</td>\n",
       "      <td>0.011994</td>\n",
       "    </tr>\n",
       "    <tr>\n",
       "      <th>2015-01-08</th>\n",
       "      <td>-0.006135</td>\n",
       "      <td>-0.034616</td>\n",
       "      <td>0.000000</td>\n",
       "      <td>0.007089</td>\n",
       "      <td>0.018250</td>\n",
       "    </tr>\n",
       "    <tr>\n",
       "      <th>2015-01-09</th>\n",
       "      <td>-0.007590</td>\n",
       "      <td>-0.004605</td>\n",
       "      <td>0.000931</td>\n",
       "      <td>0.002984</td>\n",
       "      <td>-0.008775</td>\n",
       "    </tr>\n",
       "    <tr>\n",
       "      <th>2015-01-12</th>\n",
       "      <td>-0.020598</td>\n",
       "      <td>-0.003082</td>\n",
       "      <td>-0.001862</td>\n",
       "      <td>0.003155</td>\n",
       "      <td>-0.009297</td>\n",
       "    </tr>\n",
       "  </tbody>\n",
       "</table>\n",
       "</div>"
      ],
      "text/plain": [
       "                贵州茅台      交通银行  嘉实增强信用基金   华夏恒生ETF  博时标普500ETF\n",
       "日期                                                            \n",
       "2015-01-06 -0.023431 -0.021506  0.001866 -0.008710   -0.008965\n",
       "2015-01-07 -0.025029 -0.020499  0.000932  0.009531    0.011994\n",
       "2015-01-08 -0.006135 -0.034616  0.000000  0.007089    0.018250\n",
       "2015-01-09 -0.007590 -0.004605  0.000931  0.002984   -0.008775\n",
       "2015-01-12 -0.020598 -0.003082 -0.001862  0.003155   -0.009297"
      ]
     },
     "execution_count": 9,
     "metadata": {},
     "output_type": "execute_result"
    }
   ],
   "source": [
    "R.head()"
   ]
  },
  {
   "cell_type": "code",
   "execution_count": 10,
   "id": "3f7c0f20",
   "metadata": {},
   "outputs": [],
   "source": [
    "Return_history = np.dot(R,Vaule_asset)"
   ]
  },
  {
   "cell_type": "code",
   "execution_count": 11,
   "id": "73be1f8a",
   "metadata": {},
   "outputs": [
    {
     "data": {
      "image/png": "[encoded data removed]",
      "text/plain": [
       "<Figure size 864x432 with 1 Axes>"
      ]
     },
     "metadata": {
      "needs_background": "light"
     },
     "output_type": "display_data"
    }
   ],
   "source": [
    "plt.figure(figsize=(12,6))\n",
    "plt.hist(Return_history,bins = 30,facecolor = \"y\",edgecolor=\"k\" )\n",
    "plt.xlabel(u'模拟的日收益',fontsize =13)\n",
    "plt.ylabel(u'频数',fontsize =13,rotation=90)\n",
    "plt.xticks(fontsize=13)\n",
    "plt.yticks(fontsize=13)\n",
    "plt.title(u'模拟收益的直方图',fontsize =13)\n",
    "plt.grid(\"True\")\n",
    "plt.show()"
   ]
  },
  {
   "cell_type": "code",
   "execution_count": 12,
   "id": "a5533470",
   "metadata": {},
   "outputs": [],
   "source": [
    "VaR99_1day_history = np.abs(np.percentile(a = Return_history,q = 1))## q = 1 放大100倍"
   ]
  },
  {
   "cell_type": "code",
   "execution_count": 13,
   "id": "5687993b",
   "metadata": {},
   "outputs": [
    {
     "data": {
      "text/plain": [
       "213.57309545151483"
      ]
     },
     "execution_count": 13,
     "metadata": {},
     "output_type": "execute_result"
    }
   ],
   "source": [
    "VaR99_1day_history"
   ]
  },
  {
   "cell_type": "code",
   "execution_count": 14,
   "id": "e3767e68",
   "metadata": {},
   "outputs": [],
   "source": [
    "VaR95_1day_history = np.abs(np.percentile(a = Return_history,q = 5))"
   ]
  },
  {
   "cell_type": "code",
   "execution_count": 15,
   "id": "a36e33c5",
   "metadata": {},
   "outputs": [
    {
     "data": {
      "text/plain": [
       "86.71433366165734"
      ]
     },
     "execution_count": 15,
     "metadata": {},
     "output_type": "execute_result"
    }
   ],
   "source": [
    "VaR95_1day_history"
   ]
  },
  {
   "cell_type": "code",
   "execution_count": 16,
   "id": "3df74791",
   "metadata": {},
   "outputs": [],
   "source": [
    "VaR99_10day_history = np.abs(np.percentile(a = Return_history,q = 1))*np.sqrt(10)"
   ]
  },
  {
   "cell_type": "code",
   "execution_count": 17,
   "id": "b965781f",
   "metadata": {},
   "outputs": [
    {
     "data": {
      "text/plain": [
       "675.3774285593342"
      ]
     },
     "execution_count": 17,
     "metadata": {},
     "output_type": "execute_result"
    }
   ],
   "source": [
    "VaR99_10day_history "
   ]
  },
  {
   "cell_type": "code",
   "execution_count": 18,
   "id": "95fadce3",
   "metadata": {},
   "outputs": [],
   "source": [
    "##蒙特卡洛模拟法"
   ]
  },
  {
   "cell_type": "code",
   "execution_count": 19,
   "id": "27929218",
   "metadata": {},
   "outputs": [],
   "source": [
    "import numpy.random as npr"
   ]
  },
  {
   "cell_type": "code",
   "execution_count": 20,
   "id": "ffd3a228",
   "metadata": {},
   "outputs": [],
   "source": [
    "I = 100000\n",
    "epsilon = npr.standard_t(df=len(R),size = I)\n",
    "gzmt = data.iloc[-1,0]\n",
    "jtyh = data.iloc[-1,1]\n",
    "zqjj = data.iloc[-1,2]\n",
    "hsjj = data.iloc[-1,3]\n",
    "bp500 = data.iloc[-1,4]"
   ]
  },
  {
   "cell_type": "code",
   "execution_count": 21,
   "id": "69d135f2",
   "metadata": {},
   "outputs": [],
   "source": [
    "R_mean = R.mean()*252"
   ]
  },
  {
   "cell_type": "code",
   "execution_count": 22,
   "id": "6005bdb8",
   "metadata": {},
   "outputs": [],
   "source": [
    "R_vol = R.std()*np.sqrt(252)"
   ]
  },
  {
   "cell_type": "code",
   "execution_count": 23,
   "id": "78b8c658",
   "metadata": {},
   "outputs": [],
   "source": [
    "dt =1/252"
   ]
  },
  {
   "cell_type": "code",
   "execution_count": 24,
   "id": "fbe06780",
   "metadata": {},
   "outputs": [],
   "source": [
    "gzmt_new = gzmt*np.exp((R_mean[0]-0.5*R_vol[0]**2)*dt+R_vol[0]*epsilon*np.sqrt(dt))"
   ]
  },
  {
   "cell_type": "code",
   "execution_count": 25,
   "id": "f1300d9f",
   "metadata": {},
   "outputs": [
    {
     "data": {
      "text/plain": [
       "array([591.13050201, 587.72439316, 596.84832107, ..., 585.46817175,\n",
       "       613.24548461, 591.12271556])"
      ]
     },
     "execution_count": 25,
     "metadata": {},
     "output_type": "execute_result"
    }
   ],
   "source": [
    "gzmt_new"
   ]
  },
  {
   "cell_type": "code",
   "execution_count": 26,
   "id": "fc484174",
   "metadata": {},
   "outputs": [
    {
     "data": {
      "text/plain": [
       "100000"
      ]
     },
     "execution_count": 26,
     "metadata": {},
     "output_type": "execute_result"
    }
   ],
   "source": [
    "len(gzmt_new)"
   ]
  },
  {
   "cell_type": "code",
   "execution_count": 27,
   "id": "b51b970f",
   "metadata": {},
   "outputs": [],
   "source": [
    "jtyh_new = jtyh*np.exp((R_mean[1]-0.5*R_vol[1]**2)*dt+R_vol[1]*epsilon*np.sqrt(dt))\n",
    "zqjj_new  = zqjj*np.exp((R_mean[2]-0.5*R_vol[2]**2)*dt+R_vol[2]*epsilon*np.sqrt(dt))\n",
    "hsjj_new = hsjj*np.exp((R_mean[3]-0.5*R_vol[3]**2)*dt+R_vol[3]*epsilon*np.sqrt(dt))\n",
    "bp500_new = bp500*np.exp((R_mean[4]-0.5*R_vol[4]**2)*dt+R_vol[4]*epsilon*np.sqrt(dt))"
   ]
  },
  {
   "cell_type": "code",
   "execution_count": 28,
   "id": "5c358ed9",
   "metadata": {},
   "outputs": [],
   "source": [
    "gzmt_new_port = (gzmt_new/gzmt-1)*1500\n",
    "jtyh_new_port = (jtyh_new/jtyh-1)*2000\n",
    "zqjj_new_port = (zqjj_new/zqjj-1)*5000\n",
    "hsjj_new_port = (hsjj_new/hsjj-1)*500\n",
    "bp500_new_port = (bp500_new/bp500-1)*1000"
   ]
  },
  {
   "cell_type": "code",
   "execution_count": 29,
   "id": "cb0f4e82",
   "metadata": {},
   "outputs": [],
   "source": [
    "Sp_new_port = gzmt_new_port+jtyh_new_port+zqjj_new_port+hsjj_new_port+bp500_new_port"
   ]
  },
  {
   "cell_type": "code",
   "execution_count": 30,
   "id": "127e1c29",
   "metadata": {},
   "outputs": [
    {
     "data": {
      "text/plain": [
       "array([  6.28594899, -18.41651037,  47.69231121, ..., -34.79475055,\n",
       "       166.01623635,   6.22950994])"
      ]
     },
     "execution_count": 30,
     "metadata": {},
     "output_type": "execute_result"
    }
   ],
   "source": [
    "Sp_new_port"
   ]
  },
  {
   "cell_type": "code",
   "execution_count": 31,
   "id": "b25d35a6",
   "metadata": {},
   "outputs": [
    {
     "data": {
      "image/png": "[encoded data removed]",
      "text/plain": [
       "<Figure size 864x432 with 1 Axes>"
      ]
     },
     "metadata": {
      "needs_background": "light"
     },
     "output_type": "display_data"
    }
   ],
   "source": [
    "plt.figure(figsize=(12,6))\n",
    "plt.hist(Sp_new_port,bins = 30,facecolor = \"y\",edgecolor=\"k\" )\n",
    "plt.xlabel(u'组合模拟的日收益',fontsize =13)\n",
    "plt.ylabel(u'频数',fontsize =13,rotation=0)\n",
    "plt.xticks(fontsize=13)\n",
    "plt.yticks(fontsize=13)\n",
    "plt.title(u'组合模拟的日收益的直方图',fontsize =13)\n",
    "plt.grid(\"True\")\n",
    "plt.show()"
   ]
  },
  {
   "cell_type": "code",
   "execution_count": 32,
   "id": "973af0c5",
   "metadata": {},
   "outputs": [],
   "source": [
    "VaR99_1day_Mt= np.abs(np.percentile(a = Sp_new_port,q = 1))"
   ]
  },
  {
   "cell_type": "code",
   "execution_count": 33,
   "id": "468495d5",
   "metadata": {},
   "outputs": [
    {
     "data": {
      "text/plain": [
       "202.91979668036586"
      ]
     },
     "execution_count": 33,
     "metadata": {},
     "output_type": "execute_result"
    }
   ],
   "source": [
    "VaR99_1day_Mt"
   ]
  },
  {
   "cell_type": "code",
   "execution_count": 34,
   "id": "12ccd414",
   "metadata": {},
   "outputs": [],
   "source": [
    "VaR95_1day_Mt= np.abs(np.percentile(a = Sp_new_port,q = 5))"
   ]
  },
  {
   "cell_type": "code",
   "execution_count": 35,
   "id": "693011dc",
   "metadata": {},
   "outputs": [
    {
     "data": {
      "text/plain": [
       "143.37667853682206"
      ]
     },
     "execution_count": 35,
     "metadata": {},
     "output_type": "execute_result"
    }
   ],
   "source": [
    "VaR95_1day_Mt"
   ]
  },
  {
   "cell_type": "code",
   "execution_count": 36,
   "id": "d015a3ad",
   "metadata": {},
   "outputs": [],
   "source": [
    "VaR99_10day_Mt= np.abs(np.percentile(a = Sp_new_port,q = 1))*np.sqrt(10)"
   ]
  },
  {
   "cell_type": "code",
   "execution_count": 37,
   "id": "89d1bc3a",
   "metadata": {},
   "outputs": [
    {
     "data": {
      "text/plain": [
       "641.6887398482306"
      ]
     },
     "execution_count": 37,
     "metadata": {},
     "output_type": "execute_result"
    }
   ],
   "source": [
    "VaR99_10day_Mt"
   ]
  }
 ],
 "metadata": {
  "kernelspec": {
   "display_name": "Python 3",
   "language": "python",
   "name": "python3"
  },
  "language_info": {
   "codemirror_mode": {
    "name": "ipython",
    "version": 3
   },
   "file_extension": ".py",
   "mimetype": "text/x-python",
   "name": "python",
   "nbconvert_exporter": "python",
   "pygments_lexer": "ipython3",
   "version": "3.7.3"
  }
 },
 "nbformat": 4,
 "nbformat_minor": 5
}
