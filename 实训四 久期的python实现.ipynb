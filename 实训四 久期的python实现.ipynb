{
 "cells": [
  {
   "cell_type": "code",
   "execution_count": 1,
   "id": "fb49d2bc",
   "metadata": {},
   "outputs": [],
   "source": [
    "#指导教师：宋陆军教师\n",
    "#参考资料：基于python的金融分析与风险管理-斯文\n",
    "#          风险管理与金融机构赫尔"
   ]
  },
  {
   "cell_type": "code",
   "execution_count": 2,
   "id": "179e3272",
   "metadata": {},
   "outputs": [],
   "source": [
    "import numpy as  np #导入numpy模块\n",
    "import pandas as pd #导入pandas模块"
   ]
  },
  {
   "cell_type": "code",
   "execution_count": 3,
   "id": "27530016",
   "metadata": {},
   "outputs": [],
   "source": [
    "def Bond_price(C,M,T,m,y):\n",
    "    import numpy as np\n",
    "    coupon=[]\n",
    "    for i in np.arange(1,T*m+1):\n",
    "        coupon.append(np.exp(-y*i/m)*M*C/m)\n",
    "    return np.sum(coupon)+np.exp(-y*T)*M"
   ]
  },
  {
   "cell_type": "code",
   "execution_count": 4,
   "id": "63773a85",
   "metadata": {},
   "outputs": [],
   "source": [
    "guokaihang = Bond_price(C = 0.0525,M = 100,T = 10 ,m = 2,y = 0.042)"
   ]
  },
  {
   "cell_type": "code",
   "execution_count": 5,
   "id": "391ef6ee",
   "metadata": {},
   "outputs": [
    {
     "data": {
      "text/plain": [
       "108.12527888522294"
      ]
     },
     "execution_count": 5,
     "metadata": {},
     "output_type": "execute_result"
    }
   ],
   "source": [
    "guokaihang"
   ]
  },
  {
   "cell_type": "code",
   "execution_count": 6,
   "id": "d57eb1ff",
   "metadata": {},
   "outputs": [],
   "source": [
    "def M_Duration(c,y,t):\n",
    "    cashflow=[]\n",
    "    weight=[]\n",
    "    n = len(t)\n",
    "    for i in np.arange(n):\n",
    "        cashflow.append(c[i]*np.exp(-y*t[i]))\n",
    "    for i in np.arange(n):\n",
    "        weight.append(cashflow[i]/sum(cashflow))        \n",
    "    duration = np.sum(t*weight)\n",
    "    return duration"
   ]
  },
  {
   "cell_type": "code",
   "execution_count": 7,
   "id": "0440a64b",
   "metadata": {},
   "outputs": [],
   "source": [
    "coupon = 0.0295\n",
    "par = 100\n",
    "bond_yield = 0.038\n",
    "t_list = np.arange(1,9)/2\n",
    "cashflow = np.ones_like(t_list)*coupon*par*0.5\n",
    "cashflow[-1] = par*(1+coupon*0.5)"
   ]
  },
  {
   "cell_type": "code",
   "execution_count": 8,
   "id": "07368d57",
   "metadata": {},
   "outputs": [
    {
     "data": {
      "text/plain": [
       "array([0.5, 1. , 1.5, 2. , 2.5, 3. , 3.5, 4. ])"
      ]
     },
     "execution_count": 8,
     "metadata": {},
     "output_type": "execute_result"
    }
   ],
   "source": [
    "t_list"
   ]
  },
  {
   "cell_type": "code",
   "execution_count": 9,
   "id": "9d8c22d3",
   "metadata": {},
   "outputs": [
    {
     "data": {
      "text/plain": [
       "array([  1.475,   1.475,   1.475,   1.475,   1.475,   1.475,   1.475,\n",
       "       101.475])"
      ]
     },
     "execution_count": 9,
     "metadata": {},
     "output_type": "execute_result"
    }
   ],
   "source": [
    "cashflow"
   ]
  },
  {
   "cell_type": "code",
   "execution_count": 10,
   "id": "732bb6a6",
   "metadata": {},
   "outputs": [],
   "source": [
    "duration = M_Duration(c=cashflow,y = bond_yield,t=t_list)"
   ]
  },
  {
   "cell_type": "code",
   "execution_count": 11,
   "id": "3a33b55c",
   "metadata": {},
   "outputs": [
    {
     "data": {
      "text/plain": [
       "3.798264039186086"
      ]
     },
     "execution_count": 11,
     "metadata": {},
     "output_type": "execute_result"
    }
   ],
   "source": [
    "duration"
   ]
  },
  {
   "cell_type": "code",
   "execution_count": 12,
   "id": "34b93284",
   "metadata": {},
   "outputs": [],
   "source": [
    "b = Bond_price(C = 0.0525,M = 100,T = 4 ,m = 2,y = 0.038)"
   ]
  },
  {
   "cell_type": "code",
   "execution_count": 13,
   "id": "ed719d28",
   "metadata": {},
   "outputs": [
    {
     "data": {
      "text/plain": [
       "105.19621853504601"
      ]
     },
     "execution_count": 13,
     "metadata": {},
     "output_type": "execute_result"
    }
   ],
   "source": [
    "b"
   ]
  },
  {
   "cell_type": "code",
   "execution_count": 14,
   "id": "46062db1",
   "metadata": {},
   "outputs": [],
   "source": [
    "def Modi_Duration(c,y,m,t):\n",
    "    cashflow=[]\n",
    "    weight=[]\n",
    "    n = len(t)\n",
    "    Rc= m*np.log(1+y/m) \n",
    "    for i in np.arange(n):\n",
    "        cashflow.append(c[i]*np.exp(-Rc*t[i]))\n",
    "    for i in np.arange(n):\n",
    "        weight.append(cashflow[i]/sum(cashflow))        \n",
    "    duration = np.sum(t*weight)\n",
    "    return duration/(1+y/m)"
   ]
  },
  {
   "cell_type": "code",
   "execution_count": 15,
   "id": "65d66f7b",
   "metadata": {},
   "outputs": [],
   "source": [
    "coupon = 0.0295\n",
    "par = 100\n",
    "bond_yield = 0.038\n",
    "y2 = 2*(np.exp(bond_yield/2)-1)\n",
    "t_list = np.arange(1,9)/2\n",
    "cashflow = np.ones_like(t_list)*coupon*par*0.5\n",
    "cashflow[-1] = par*(1+coupon*0.5)"
   ]
  },
  {
   "cell_type": "code",
   "execution_count": 16,
   "id": "02ea9565",
   "metadata": {},
   "outputs": [
    {
     "data": {
      "text/plain": [
       "0.03836329723481624"
      ]
     },
     "execution_count": 16,
     "metadata": {},
     "output_type": "execute_result"
    }
   ],
   "source": [
    "y2"
   ]
  },
  {
   "cell_type": "code",
   "execution_count": 17,
   "id": "5757ba1d",
   "metadata": {},
   "outputs": [],
   "source": [
    "modi_du =Modi_Duration(c=cashflow,y=y2,m=2,t=t_list) "
   ]
  },
  {
   "cell_type": "code",
   "execution_count": 18,
   "id": "83009789",
   "metadata": {},
   "outputs": [
    {
     "data": {
      "text/plain": [
       "3.7267782875983886"
      ]
     },
     "execution_count": 18,
     "metadata": {},
     "output_type": "execute_result"
    }
   ],
   "source": [
    "modi_du"
   ]
  },
  {
   "cell_type": "code",
   "execution_count": 19,
   "id": "8b7a8632",
   "metadata": {},
   "outputs": [],
   "source": [
    "def Convexity(c,y,t):\n",
    "    cashflow=[]\n",
    "    weight=[]\n",
    "    n = len(t)\n",
    "    for i in np.arange(n):\n",
    "        cashflow.append(c[i]*np.exp(-y*t[i]))\n",
    "    for i in np.arange(n):\n",
    "        weight.append(cashflow[i]/sum(cashflow))        \n",
    "    convexity = np.sum(weight*t**2)\n",
    "    return convexity"
   ]
  },
  {
   "cell_type": "code",
   "execution_count": 20,
   "id": "18e0bf45",
   "metadata": {},
   "outputs": [],
   "source": [
    "conv = Convexity(c=cashflow,y = bond_yield,t = t_list)"
   ]
  },
  {
   "cell_type": "code",
   "execution_count": 21,
   "id": "335b31f7",
   "metadata": {},
   "outputs": [
    {
     "data": {
      "text/plain": [
       "14.896146400827526"
      ]
     },
     "execution_count": 21,
     "metadata": {},
     "output_type": "execute_result"
    }
   ],
   "source": [
    "conv"
   ]
  },
  {
   "cell_type": "code",
   "execution_count": 22,
   "id": "19b6ffa2",
   "metadata": {},
   "outputs": [],
   "source": [
    "b = Bond_price(C = 0.0295,M = 100,T = 4 ,m = 2,y = 0.038)"
   ]
  },
  {
   "cell_type": "code",
   "execution_count": 23,
   "id": "93520ab2",
   "metadata": {},
   "outputs": [
    {
     "data": {
      "text/plain": [
       "96.7421236664465"
      ]
     },
     "execution_count": 23,
     "metadata": {},
     "output_type": "execute_result"
    }
   ],
   "source": [
    "b"
   ]
  },
  {
   "cell_type": "code",
   "execution_count": 24,
   "id": "fd5a2262",
   "metadata": {},
   "outputs": [],
   "source": [
    "dy = 0.1"
   ]
  },
  {
   "cell_type": "code",
   "execution_count": 25,
   "id": "95cc107d",
   "metadata": {},
   "outputs": [],
   "source": [
    "db = -b*duration*dy + 1/2*conv*b*(dy**2)"
   ]
  },
  {
   "cell_type": "code",
   "execution_count": 26,
   "id": "690cffad",
   "metadata": {},
   "outputs": [
    {
     "data": {
      "text/plain": [
       "-29.53978875336395"
      ]
     },
     "execution_count": 26,
     "metadata": {},
     "output_type": "execute_result"
    }
   ],
   "source": [
    "db"
   ]
  },
  {
   "cell_type": "code",
   "execution_count": 27,
   "id": "74afccf9",
   "metadata": {},
   "outputs": [],
   "source": [
    "nb = b+db"
   ]
  },
  {
   "cell_type": "code",
   "execution_count": 28,
   "id": "8b247ee9",
   "metadata": {},
   "outputs": [
    {
     "data": {
      "text/plain": [
       "67.20233491308255"
      ]
     },
     "execution_count": 28,
     "metadata": {},
     "output_type": "execute_result"
    }
   ],
   "source": [
    "nb"
   ]
  },
  {
   "cell_type": "code",
   "execution_count": 29,
   "id": "3594ed94",
   "metadata": {},
   "outputs": [],
   "source": [
    "mdb = -b*modi_du*dy + 1/2*conv*b*(dy**2)"
   ]
  },
  {
   "cell_type": "code",
   "execution_count": 30,
   "id": "469cc76b",
   "metadata": {},
   "outputs": [
    {
     "data": {
      "text/plain": [
       "-28.84822041131536"
      ]
     },
     "execution_count": 30,
     "metadata": {},
     "output_type": "execute_result"
    }
   ],
   "source": [
    "mdb "
   ]
  },
  {
   "cell_type": "code",
   "execution_count": 31,
   "id": "e555a5e3",
   "metadata": {},
   "outputs": [],
   "source": [
    "mnb = b+mdb"
   ]
  },
  {
   "cell_type": "code",
   "execution_count": 32,
   "id": "7355704c",
   "metadata": {},
   "outputs": [
    {
     "data": {
      "text/plain": [
       "67.89390325513114"
      ]
     },
     "execution_count": 32,
     "metadata": {},
     "output_type": "execute_result"
    }
   ],
   "source": [
    "mnb"
   ]
  }
 ],
 "metadata": {
  "kernelspec": {
   "display_name": "Python 3",
   "language": "python",
   "name": "python3"
  },
  "language_info": {
   "codemirror_mode": {
    "name": "ipython",
    "version": 3
   },
   "file_extension": ".py",
   "mimetype": "text/x-python",
   "name": "python",
   "nbconvert_exporter": "python",
   "pygments_lexer": "ipython3",
   "version": "3.7.3"
  }
 },
 "nbformat": 4,
 "nbformat_minor": 5
}
